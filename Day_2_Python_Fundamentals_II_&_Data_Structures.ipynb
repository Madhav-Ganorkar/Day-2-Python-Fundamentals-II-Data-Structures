{
  "cells": [
    {
      "cell_type": "markdown",
      "metadata": {
        "id": "b1I6sVt33GcG"
      },
      "source": [
        "# Implementation (5)"
      ]
    },
    {
      "cell_type": "markdown",
      "metadata": {
        "id": "XbAJ3HyH3KBa"
      },
      "source": [
        "**1. Implement a generator that yields Fibonacci numbers.**    \n",
        "Ans:\n"
      ]
    },
    {
      "cell_type": "code",
      "execution_count": 2,
      "metadata": {
        "id": "Ao0PrvS63btC"
      },
      "outputs": [],
      "source": [
        "def fibonacci_generator():\n",
        "    a, b = 0, 1\n",
        "    while True:\n",
        "        yield a\n",
        "        a, b = b, a + b"
      ]
    },
    {
      "cell_type": "markdown",
      "metadata": {
        "id": "BtI5b-sQ3nr1"
      },
      "source": [
        " Explanation:\n",
        "\n",
        "* I start with a = 0, b = 1 — first two numbers in the Fibonacci series.\n",
        "\n",
        "* Inside an infinite loop, I yield a, meaning I give out one number at a time.\n",
        "\n",
        "* Then I update: a, b = b, a + b — this keeps generating the next number.\n",
        "\n",
        "Why use a generator?\n",
        "\n",
        "* We don’t know how many numbers we need ahead of time.\n",
        "\n",
        "* Using yield avoids storing the entire sequence in memory.\n",
        "\n",
        "Example:"
      ]
    },
    {
      "cell_type": "code",
      "execution_count": 3,
      "metadata": {
        "colab": {
          "base_uri": "https://localhost:8080/"
        },
        "id": "RcjxCuDE3xtl",
        "outputId": "655bbe25-ecd4-407e-d5a5-0b08d5170598"
      },
      "outputs": [
        {
          "name": "stdout",
          "output_type": "stream",
          "text": [
            "0\n",
            "1\n",
            "1\n",
            "2\n",
            "3\n",
            "5\n"
          ]
        }
      ],
      "source": [
        "gen = fibonacci_generator()\n",
        "for _ in range(6):\n",
        "    print(next(gen))  # 0 1 1 2 3 5"
      ]
    },
    {
      "cell_type": "code",
      "execution_count": null,
      "metadata": {
        "id": "5VqsVDN64H-q"
      },
      "outputs": [],
      "source": []
    },
    {
      "cell_type": "markdown",
      "metadata": {
        "id": "Ogd0tz4Z3z-U"
      },
      "source": [
        "**2. Use Counter to find the most common items in a list.**   \n",
        "Ans:\n",
        "* Counter(data) counts how many times each item appears.\n",
        "\n",
        "* .most_common(2) gives top 2 most frequent items as (item, count) pairs.\n",
        "\n",
        "Use case: Super useful for analyzing word frequencies, sales data, user activity, etc."
      ]
    },
    {
      "cell_type": "code",
      "execution_count": 4,
      "metadata": {
        "colab": {
          "base_uri": "https://localhost:8080/"
        },
        "id": "69lbACG24hIR",
        "outputId": "f13008d1-de4e-4eee-d2bf-f69ee0b48bc6"
      },
      "outputs": [
        {
          "name": "stdout",
          "output_type": "stream",
          "text": [
            "[('apple', 3), ('banana', 2)]\n"
          ]
        }
      ],
      "source": [
        "from collections import Counter\n",
        "\n",
        "data = ['apple', 'banana', 'apple', 'orange', 'banana', 'apple']\n",
        "count = Counter(data)\n",
        "print(count.most_common(2))\n"
      ]
    },
    {
      "cell_type": "markdown",
      "metadata": {
        "id": "zi7-VLpb4k4P"
      },
      "source": [
        "**3. Demonstrate dict comprehension transforming one dict to another.**   \n",
        "Ans:\n",
        "* In loop over each (key, value) pair using .items()\n",
        "\n",
        "* In one line, I build a new dictionary where the values are squared."
      ]
    },
    {
      "cell_type": "code",
      "execution_count": 8,
      "metadata": {
        "colab": {
          "base_uri": "https://localhost:8080/"
        },
        "id": "MM-cmG4P5G5t",
        "outputId": "e6eff9fb-efac-4c79-c03a-100d7235dc50"
      },
      "outputs": [
        {
          "data": {
            "text/plain": [
              "{'b': 3, 'c': 4}"
            ]
          },
          "execution_count": 8,
          "metadata": {},
          "output_type": "execute_result"
        }
      ],
      "source": [
        "data = {'a': 2, 'b': 3, 'c': 4}\n",
        "squared = {k: v**2 for k, v in data.items()}\n",
        "\n",
        "# You can also filter like this:\n",
        "\n",
        "{k: v for k, v in data.items() if v > 2}"
      ]
    },
    {
      "cell_type": "markdown",
      "metadata": {
        "id": "Bi4zonGT5nEL"
      },
      "source": [
        "**4. Build a simple priority queue using heapq.**    \n",
        "Ans:\n",
        "Explanation:\n",
        "\n",
        "* I’m using a list tasks as a min-heap.\n",
        "\n",
        "* Each item is a tuple: (priority, task)\n",
        "\n",
        "* heappush adds item while maintaining heap order.\n",
        "\n",
        "* heappop always removes the task with the lowest priority value first.\n",
        "\n",
        "Use case: Job scheduling, to-do lists, event management systems."
      ]
    },
    {
      "cell_type": "code",
      "execution_count": 9,
      "metadata": {
        "colab": {
          "base_uri": "https://localhost:8080/"
        },
        "id": "SN11tCH56tix",
        "outputId": "4238411d-22bd-41d6-d1b2-864486961d63"
      },
      "outputs": [
        {
          "name": "stdout",
          "output_type": "stream",
          "text": [
            "do homework (Priority: 1)\n",
            "clean room (Priority: 2)\n",
            "read book (Priority: 3)\n"
          ]
        }
      ],
      "source": [
        "import heapq\n",
        "\n",
        "tasks = []\n",
        "heapq.heappush(tasks, (2, 'clean room'))\n",
        "heapq.heappush(tasks, (1, 'do homework'))\n",
        "heapq.heappush(tasks, (3, 'read book'))\n",
        "\n",
        "while tasks:\n",
        "    priority, task = heapq.heappop(tasks)\n",
        "    print(f\"{task} (Priority: {priority})\")\n"
      ]
    },
    {
      "cell_type": "markdown",
      "metadata": {
        "id": "rhIfmrjn6x3B"
      },
      "source": [
        "**5. Write code to deep-copy nested structures without copy.deepcopy.**    \n",
        "Ans:\n",
        "Explanation:\n",
        "\n",
        "* I check if the object is a list or dict.\n",
        "\n",
        "* If yes, I recursively copy its elements.\n",
        "\n",
        "* If not, I return it as is (like number, string, etc.)."
      ]
    },
    {
      "cell_type": "code",
      "execution_count": 10,
      "metadata": {
        "id": "BnlJKrFX7DjP"
      },
      "outputs": [],
      "source": [
        "def deep_copy(obj):\n",
        "    if isinstance(obj, list):\n",
        "        return [deep_copy(item) for item in obj]\n",
        "    elif isinstance(obj, dict):\n",
        "        return {key: deep_copy(value) for key, value in obj.items()}\n",
        "    else:\n",
        "        return obj  # base case for int, str, etc."
      ]
    }
  ],
  "metadata": {
    "colab": {
      "provenance": []
    },
    "kernelspec": {
      "display_name": "Python 3",
      "name": "python3"
    },
    "language_info": {
      "name": "python"
    }
  },
  "nbformat": 4,
  "nbformat_minor": 0
}
